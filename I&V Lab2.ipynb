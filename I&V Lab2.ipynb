{
 "cells": [
  {
   "cell_type": "code",
   "execution_count": 2,
   "id": "86e03efc",
   "metadata": {},
   "outputs": [],
   "source": [
    "import cv2\n",
    "import numpy as np\n"
   ]
  },
  {
   "cell_type": "markdown",
   "id": "c3ddac0e",
   "metadata": {},
   "source": [
    "1 Function to display neighbors"
   ]
  },
  {
   "cell_type": "code",
   "execution_count": 3,
   "id": "228c78fe",
   "metadata": {},
   "outputs": [
    {
     "name": "stdout",
     "output_type": "stream",
     "text": [
      "Pixel P at (10, 10) has the value 12\n",
      "Top Neighbor: (10, 9) has the value 14\n",
      "Bottom Neighbor: (10, 11) has the value 9\n",
      "Left Neighbor: (9, 10) has the value 15\n",
      "Right Neighbor: (11, 10) has the value 9\n",
      "Top-left Neighbor: (9, 9) has the value 16\n",
      "Top-right Neighbor: (11, 9) has the value 13\n",
      "Bottom-left Neighbor: (9, 11) has the value 11\n",
      "Bottom-right Neighbor: (11, 11) has the value 8\n"
     ]
    }
   ],
   "source": [
    "\n",
    "def display_neighbors(image, x, y):\n",
    "    height, width = image.shape[:2]\n",
    "\n",
    "    print(f\"Pixel P at ({x}, {y}) has the value {image[y, x]}\")\n",
    "\n",
    "    # 4-Neighborhood (top, bottom, left, right)\n",
    "    if y-1 >= 0:\n",
    "        print(f\"Top Neighbor: ({x}, {y-1}) has the value {image[y-1, x]}\")\n",
    "    if y+1 < height:\n",
    "        print(f\"Bottom Neighbor: ({x}, {y+1}) has the value {image[y+1, x]}\")\n",
    "    if x-1 >= 0:\n",
    "        print(f\"Left Neighbor: ({x-1}, {y}) has the value {image[y, x-1]}\")\n",
    "    if x+1 < width:\n",
    "        print(f\"Right Neighbor: ({x+1}, {y}) has the value {image[y, x+1]}\")\n",
    "\n",
    "    # 8-Neighborhood (including diagonals)\n",
    "    if y-1 >= 0 and x-1 >= 0:\n",
    "        print(f\"Top-left Neighbor: ({x-1}, {y-1}) has the value {image[y-1, x-1]}\")\n",
    "    if y-1 >= 0 and x+1 < width:\n",
    "        print(f\"Top-right Neighbor: ({x+1}, {y-1}) has the value {image[y-1, x+1]}\")\n",
    "    if y+1 < height and x-1 >= 0:\n",
    "        print(f\"Bottom-left Neighbor: ({x-1}, {y+1}) has the value {image[y+1, x-1]}\")\n",
    "    if y+1 < height and x+1 < width:\n",
    "        print(f\"Bottom-right Neighbor: ({x+1}, {y+1}) has the value {image[y+1, x+1]}\")\n",
    "\n",
    "# Read an image\n",
    "image_path = r\"C:\\Users\\Shrushti S G\\Downloads\\Flower.jpg\"\n",
    "image = cv2.imread(image_path, cv2.IMREAD_GRAYSCALE)\n",
    "\n",
    "if image is None:\n",
    "    print(\"Image not found!\")\n",
    "else:\n",
    "    # Define the pixel coordinates P (x, y)\n",
    "    x, y = 10, 10  # Change these coordinates based on your image size\n",
    "\n",
    "    display_neighbors(image, x, y)\n",
    "\n",
    "    # Display the image with a marker on pixel P\n",
    "    marked_image = cv2.cvtColor(image, cv2.COLOR_GRAY2BGR)\n",
    "    cv2.circle(marked_image, (x, y), 5, (0, 0, 255), -1)\n",
    "    cv2.imshow('Image with Pixel P', marked_image)\n",
    "    cv2.waitKey(0)\n",
    "    cv2.destroyAllWindows()"
   ]
  },
  {
   "cell_type": "markdown",
   "id": "a352db54",
   "metadata": {},
   "source": [
    "2 Function to compute distances between two pixels"
   ]
  },
  {
   "cell_type": "code",
   "execution_count": null,
   "id": "be632cfa",
   "metadata": {},
   "outputs": [
    {
     "name": "stderr",
     "output_type": "stream",
     "text": [
      "C:\\Users\\Shrushti S G\\AppData\\Local\\Temp\\ipykernel_409436\\1650282608.py:5: RuntimeWarning: invalid value encountered in sqrt\n",
      "  euclidean_distance = np.sqrt((p1[0] - p2[0])*2 + (p1[1] - p2[1])*2)\n"
     ]
    },
    {
     "name": "stdout",
     "output_type": "stream",
     "text": [
      "Euclidean Distance between P(10, 10) and Q(50, 50): nan\n",
      "City Block Distance between P(10, 10) and Q(50, 50): 80\n",
      "Chessboard Distance between P(10, 10) and Q(50, 50): 40\n"
     ]
    }
   ],
   "source": [
    "import cv2\n",
    "import numpy as np\n",
    "def compute_distances(p1, p2):\n",
    "    # Euclidean distance\n",
    "    euclidean_distance = np.sqrt((p1[0] - p2[0])*2 + (p1[1] - p2[1])*2)\n",
    "    \n",
    "    # City block distance (Manhattan distance)\n",
    "    city_block_distance = abs(p1[0] - p2[0]) + abs(p1[1] - p2[1])\n",
    "    \n",
    "    # Chessboard distance (Chebyshev distance)\n",
    "    chessboard_distance = max(abs(p1[0] - p2[0]), abs(p1[1] - p2[1]))\n",
    "    \n",
    "    return euclidean_distance, city_block_distance, chessboard_distance\n",
    "\n",
    "# Read an image\n",
    "image_path = r\"C:\\Users\\Shrushti S G\\Downloads\\Flower.jpg\"\n",
    "image = cv2.imread(image_path, cv2.IMREAD_GRAYSCALE)\n",
    "\n",
    "if image is None:\n",
    "    print(\"Image not found!\")\n",
    "else:\n",
    "    # Define the pixel coordinates P (x1, y1) and Q (x2, y2)\n",
    "    p1 = (10, 10)  # Pixel P (x1, y1)\n",
    "    p2 = (50, 50)  # Pixel Q (x2, y2)\n",
    "\n",
    "    # Compute distances\n",
    "    euclidean, city_block, chessboard = compute_distances(p1, p2)\n",
    "\n",
    "    # Display the distances\n",
    "    print(f\"Euclidean Distance between P{p1} and Q{p2}: {euclidean}\")\n",
    "    print(f\"City Block Distance between P{p1} and Q{p2}: {city_block}\")\n",
    "    print(f\"Chessboard Distance between P{p1} and Q{p2}: {chessboard}\")\n",
    "\n",
    "    # Display the image with markers on pixels P and Q\n",
    "    marked_image = cv2.cvtColor(image, cv2.COLOR_GRAY2BGR)\n",
    "    cv2.circle(marked_image, p1, 5, (0, 0, 255), -1)  # Red circle for P\n",
    "    cv2.circle(marked_image, p2, 5, (0, 255, 0), -1)  # Green circle for Q\n",
    "    cv2.imshow('Image with Pixels P and Q', marked_image)\n",
    "    cv2.waitKey(0)\n",
    "    cv2.destroyAllWindows()"
   ]
  },
  {
   "cell_type": "markdown",
   "id": "da7efad7",
   "metadata": {},
   "source": [
    "3 Function to check if two pixels are connected"
   ]
  },
  {
   "cell_type": "code",
   "execution_count": null,
   "id": "26bc9bd6",
   "metadata": {},
   "outputs": [
    {
     "name": "stdout",
     "output_type": "stream",
     "text": [
      "Pixels P(20, 20) and Q(75, 75) are not connected.\n"
     ]
    }
   ],
   "source": [
    "import cv2\n",
    "import numpy as np\n",
    "def are_connected(image, p1, p2):\n",
    "    # Create a mask for flood-fill algorithm\n",
    "    height, width = image.shape[:2]\n",
    "    mask = np.zeros((height + 2, width + 2), np.uint8)\n",
    "    \n",
    "    # Flood fill from pixel P\n",
    "    _, _, _, rect = cv2.floodFill(image.copy(), mask, p1, 255)\n",
    "\n",
    "    # Check if pixel Q is within the flood-filled area\n",
    "    if mask[p2[1] + 1, p2[0] + 1] == 1:\n",
    "        return True\n",
    "    return False\n",
    "\n",
    "# Create a simple binary image\n",
    "image = np.zeros((100, 100), np.uint8)\n",
    "\n",
    "# Draw a connected component (e.g., a rectangle)\n",
    "cv2.rectangle(image, (10, 10), (60, 60), 255, -1)\n",
    "\n",
    "# Draw a disconnected component (e.g., another rectangle)\n",
    "cv2.rectangle(image, (70, 70), (90, 90), 255, -1)\n",
    "\n",
    "# Define the pixel coordinates P and Q\n",
    "p1 = (20, 20)  # Pixel P within the first rectangle\n",
    "p2 = (75, 75)  # Pixel Q within the second rectangle\n",
    "\n",
    "# Check if P and Q are connected\n",
    "connected = are_connected(image, p1, p2)\n",
    "\n",
    "# Display the result\n",
    "if connected:\n",
    "    print(f\"Pixels P{p1} and Q{p2} are connected.\")\n",
    "else:\n",
    "    print(f\"Pixels P{p1} and Q{p2} are not connected.\")\n",
    "\n",
    "# Display the image with markers on pixels P and Q\n",
    "marked_image = cv2.cvtColor(image, cv2.COLOR_GRAY2BGR)\n",
    "cv2.circle(marked_image, p1, 5, (0, 0, 255), -1)  # Red circle for P\n",
    "cv2.circle(marked_image, p2, 5, (0, 255, 0), -1)  # Green circle for Q\n",
    "cv2.imshow('Binary Image with Pixels P and Q', marked_image)\n",
    "cv2.waitKey(0)\n",
    "cv2.destroyAllWindows()"
   ]
  },
  {
   "cell_type": "code",
   "execution_count": null,
   "id": "9d18f7d6",
   "metadata": {},
   "outputs": [],
   "source": [
    "import numpy as np\n",
    "\n",
    "def is_connected(image, start_pixel, end_pixel):\n",
    "    \"\"\"\n",
    "    Check if two pixels are connected in a binary image.\n",
    "\n",
    "    :param image: 2D binary numpy array (0 for background, 1 for foreground)\n",
    "    :param start_pixel: Tuple (x, y) coordinates of the start pixel\n",
    "    :param end_pixel: Tuple (x, y) coordinates of the end pixel\n",
    "    :return: True if the pixels are connected, otherwise False\n",
    "    \"\"\"\n",
    "    if not (0 <= start_pixel[0] < image.shape[0] and 0 <= start_pixel[1] < image.shape[1]):\n",
    "        return False\n",
    "    if not (0 <= end_pixel[0] < image.shape[0] and 0 <= end_pixel[1] < image.shape[1]):\n",
    "        return False\n",
    "\n",
    "    if image[start_pixel] == 0 or image[end_pixel] == 0:\n",
    "        return False\n",
    "\n",
    "    visited = set()\n",
    "\n",
    "    def dfs(pixel):\n",
    "        if pixel == end_pixel:\n",
    "            return True\n",
    "        visited.add(pixel)\n",
    "        x, y = pixel\n",
    "\n",
    "        # Explore neighbors (up, down, left, right)\n",
    "        directions = [(-1, 0), (1, 0), (0, -1), (0, 1)]\n",
    "        for dx, dy in directions:\n",
    "            new_pixel = (x + dx, y + dy)\n",
    "            if (0 <= new_pixel[0] < image.shape[0] and \n",
    "                0 <= new_pixel[1] < image.shape[1] and \n",
    "                new_pixel not in visited and \n",
    "                image[new_pixel] == 1):\n",
    "                if dfs(new_pixel):\n",
    "                    return True\n",
    "        return False\n",
    "\n",
    "    return dfs(start_pixel)\n",
    "\n",
    "# Example usage:\n",
    "binary_image = np.array([\n",
    "    [1, 1, 0, 0],\n",
    "    [0, 1, 1, 0],\n",
    "    [0, 0, 1, 0],\n",
    "    [1, 0, 0, 0]\n",
    "])\n",
    "\n",
    "start = (0, 0)\n",
    "end = (2, 2)\n",
    "\n",
    "connected = is_connected(binary_image, start, end)\n",
    "print(f\"Pixels {start} and {end} are connected: {connected}\")\n"
   ]
  },
  {
   "cell_type": "code",
   "execution_count": null,
   "id": "4a649ecf",
   "metadata": {},
   "outputs": [],
   "source": []
  }
 ],
 "metadata": {
  "kernelspec": {
   "display_name": "Python 3 (ipykernel)",
   "language": "python",
   "name": "python3"
  },
  "language_info": {
   "codemirror_mode": {
    "name": "ipython",
    "version": 3
   },
   "file_extension": ".py",
   "mimetype": "text/x-python",
   "name": "python",
   "nbconvert_exporter": "python",
   "pygments_lexer": "ipython3",
   "version": "3.9.12"
  }
 },
 "nbformat": 4,
 "nbformat_minor": 5
}
